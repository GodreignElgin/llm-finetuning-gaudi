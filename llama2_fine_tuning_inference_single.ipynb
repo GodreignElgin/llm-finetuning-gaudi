{
 "cells": [
  {
   "cell_type": "markdown",
   "id": "9599e2f3-6b9c-4578-9501-7d5c65df408a",
   "metadata": {},
   "source": [
    "Copyright (c) 2023 Habana Labs, Ltd. an Intel Company.\n",
    "\n",
    "#### Licensed under the Apache License, Version 2.0 (the \"License\");\n",
    "you may not use this file except in compliance with the License. You may obtain a copy of the License at https://www.apache.org/licenses/LICENSE-2.0 Unless required by applicable law or agreed to in writing, software distributed under the License is distributed on an \"AS IS\" BASIS, WITHOUT WARRANTIES OR CONDITIONS OF ANY KIND, either express or implied. See the License for the specific language governing permissions and limitations under the License."
   ]
  },
  {
   "cell_type": "markdown",
   "id": "1a8d33aa-8f5b-4de3-bdaa-b2bfac88e1e8",
   "metadata": {},
   "source": [
    "# Using Paramater Efficient Fine Tuning on Llama 2 with 7B Parameters on One Intel&reg; Gaudi&reg; 2 AI Accelerator\n",
    "This example will Fine Tune the Llama2-7B model using Parameter Efficient Fine Tuining (PEFT) and then run inference on a text prompt.  This will be using the Llama2 model with two task examples from the Optimum Habana library on the Hugging Face model repository.   The Optimum Habana library is optimized for Deep Learning training and inference on First-gen Gaudi and Gaudi2 and offers tasks such as text generation, language modeling, question answering and more. For all the examples and models, please refer to the [Optimum Habana GitHub](https://github.com/huggingface/optimum-habana#validated-models).\n",
    "\n",
    "This example will Fine Tune the Llama2-7B model using Parameter Efficient Fine Tuining (PEFT) on the timdettmers/openassistant-guanaco dataset using the Language-Modeling Task in Optimum Habana."
   ]
  },
  {
   "cell_type": "markdown",
   "id": "194dab65-bb6c-48e8-ba61-a206505278b3",
   "metadata": {},
   "source": [
    "> **Note:** This notebook and hosted environment have been designed and optimized for Intel® Gaudi® software version 1.15. Please keep this in mind if attempting to run other notebooks or activities, as content designed for newer software versions is not likely to run successfully. We will be upgrading this version soon. Thanks!"
   ]
  },
  {
   "cell_type": "markdown",
   "id": "f337ed16-dcfa-424f-a46d-933880d12d04",
   "metadata": {},
   "source": [
    "### Parameter Efficient Fine Tuning with Low Rank Adaptation\n",
    "Parameter Efficient Fine Tuning is a strategy for adapting large pre-trained language models to specific tasks while minimizing computational and memory demands.   It aims to reduce the computational cost and memory requirements associated with fine-tuning large models while maintaining or even improving their performance.  It does so by adding a smaller task-specific layer, leveraging knowledge distillation, and often relying on few-shot learning, resulting in efficient yet effective models for various natural language understanding tasks.   PEFT starts with a pre-trained language model that has already learned a wide range of language understanding tasks from a large corpus of text data. These models are usually large and computationally expensive.   Instead of fine-tuning the entire pre-trained model, PEFT adds a task-specific layer or a few task-specific layers on top of the pre-trained model. These additional layers are relatively smaller and have fewer parameters compared to the base model.\n"
   ]
  },
  {
   "cell_type": "code",
   "execution_count": 1,
   "id": "404692f3-1266-4dcb-8885-ec6016aa5bef",
   "metadata": {},
   "outputs": [
    {
     "name": "stdout",
     "output_type": "stream",
     "text": [
      "/home/uc23ff5572e2e4b3554d551d65d833aa/Gaudi-tutorials/PyTorch/Single_card_tutorials\n"
     ]
    }
   ],
   "source": [
    "%cd ~/Gaudi-tutorials/PyTorch/Single_card_tutorials"
   ]
  },
  {
   "cell_type": "markdown",
   "id": "29ad8bfa-90ae-4e32-963f-821b92ddab0e",
   "metadata": {},
   "source": [
    "### Model Setup: "
   ]
  },
  {
   "cell_type": "markdown",
   "id": "9240274a-dd9a-4ca9-a73d-b4ff956c343d",
   "metadata": {},
   "source": [
    "##### Install the Parameter Efficient Fine Tuning Library methods\n",
    "This is taking the PEFT method from the Hugging Face repository and will be used to help create the PEFT Fine Tuning with the Llama2 model."
   ]
  },
  {
   "cell_type": "code",
   "execution_count": 2,
   "id": "7d21efb3-978e-4585-915a-4c8a9ba9b064",
   "metadata": {},
   "outputs": [
    {
     "name": "stdout",
     "output_type": "stream",
     "text": [
      "Defaulting to user installation because normal site-packages is not writeable\n",
      "Collecting peft==0.10.0\n",
      "  Using cached peft-0.10.0-py3-none-any.whl.metadata (13 kB)\n",
      "Requirement already satisfied: numpy>=1.17 in /home/uc23ff5572e2e4b3554d551d65d833aa/.local/lib/python3.10/site-packages (from peft==0.10.0) (1.26.4)\n",
      "Requirement already satisfied: packaging>=20.0 in /home/uc23ff5572e2e4b3554d551d65d833aa/.local/lib/python3.10/site-packages (from peft==0.10.0) (24.2)\n",
      "Requirement already satisfied: psutil in /home/uc23ff5572e2e4b3554d551d65d833aa/.local/lib/python3.10/site-packages (from peft==0.10.0) (7.0.0)\n",
      "Requirement already satisfied: pyyaml in /home/uc23ff5572e2e4b3554d551d65d833aa/.local/lib/python3.10/site-packages (from peft==0.10.0) (6.0.2)\n",
      "Requirement already satisfied: torch>=1.13.0 in /home/uc23ff5572e2e4b3554d551d65d833aa/.local/lib/python3.10/site-packages (from peft==0.10.0) (2.2.0)\n",
      "Requirement already satisfied: transformers in /home/uc23ff5572e2e4b3554d551d65d833aa/.local/lib/python3.10/site-packages (from peft==0.10.0) (4.38.2)\n",
      "Requirement already satisfied: tqdm in /home/uc23ff5572e2e4b3554d551d65d833aa/.local/lib/python3.10/site-packages (from peft==0.10.0) (4.67.1)\n",
      "Requirement already satisfied: accelerate>=0.21.0 in /home/uc23ff5572e2e4b3554d551d65d833aa/.local/lib/python3.10/site-packages (from peft==0.10.0) (0.27.2)\n",
      "Requirement already satisfied: safetensors in /home/uc23ff5572e2e4b3554d551d65d833aa/.local/lib/python3.10/site-packages (from peft==0.10.0) (0.4.5)\n",
      "Requirement already satisfied: huggingface-hub>=0.17.0 in /home/uc23ff5572e2e4b3554d551d65d833aa/.local/lib/python3.10/site-packages (from peft==0.10.0) (0.29.2)\n",
      "Requirement already satisfied: filelock in /home/uc23ff5572e2e4b3554d551d65d833aa/.local/lib/python3.10/site-packages (from huggingface-hub>=0.17.0->peft==0.10.0) (3.17.0)\n",
      "Requirement already satisfied: fsspec>=2023.5.0 in /home/uc23ff5572e2e4b3554d551d65d833aa/.local/lib/python3.10/site-packages (from huggingface-hub>=0.17.0->peft==0.10.0) (2024.9.0)\n",
      "Requirement already satisfied: requests in /home/uc23ff5572e2e4b3554d551d65d833aa/.local/lib/python3.10/site-packages (from huggingface-hub>=0.17.0->peft==0.10.0) (2.32.3)\n",
      "Requirement already satisfied: typing-extensions>=3.7.4.3 in /home/uc23ff5572e2e4b3554d551d65d833aa/.local/lib/python3.10/site-packages (from huggingface-hub>=0.17.0->peft==0.10.0) (4.12.2)\n",
      "Requirement already satisfied: sympy in /home/uc23ff5572e2e4b3554d551d65d833aa/.local/lib/python3.10/site-packages (from torch>=1.13.0->peft==0.10.0) (1.13.1)\n",
      "Requirement already satisfied: networkx in /home/uc23ff5572e2e4b3554d551d65d833aa/.local/lib/python3.10/site-packages (from torch>=1.13.0->peft==0.10.0) (3.4.2)\n",
      "Requirement already satisfied: jinja2 in /usr/lib/python3/dist-packages (from torch>=1.13.0->peft==0.10.0) (3.0.3)\n",
      "Requirement already satisfied: nvidia-cuda-nvrtc-cu12==12.1.105 in /home/uc23ff5572e2e4b3554d551d65d833aa/.local/lib/python3.10/site-packages (from torch>=1.13.0->peft==0.10.0) (12.1.105)\n",
      "Requirement already satisfied: nvidia-cuda-runtime-cu12==12.1.105 in /home/uc23ff5572e2e4b3554d551d65d833aa/.local/lib/python3.10/site-packages (from torch>=1.13.0->peft==0.10.0) (12.1.105)\n",
      "Requirement already satisfied: nvidia-cuda-cupti-cu12==12.1.105 in /home/uc23ff5572e2e4b3554d551d65d833aa/.local/lib/python3.10/site-packages (from torch>=1.13.0->peft==0.10.0) (12.1.105)\n",
      "Requirement already satisfied: nvidia-cudnn-cu12==8.9.2.26 in /home/uc23ff5572e2e4b3554d551d65d833aa/.local/lib/python3.10/site-packages (from torch>=1.13.0->peft==0.10.0) (8.9.2.26)\n",
      "Requirement already satisfied: nvidia-cublas-cu12==12.1.3.1 in /home/uc23ff5572e2e4b3554d551d65d833aa/.local/lib/python3.10/site-packages (from torch>=1.13.0->peft==0.10.0) (12.1.3.1)\n",
      "Requirement already satisfied: nvidia-cufft-cu12==11.0.2.54 in /home/uc23ff5572e2e4b3554d551d65d833aa/.local/lib/python3.10/site-packages (from torch>=1.13.0->peft==0.10.0) (11.0.2.54)\n",
      "Requirement already satisfied: nvidia-curand-cu12==10.3.2.106 in /home/uc23ff5572e2e4b3554d551d65d833aa/.local/lib/python3.10/site-packages (from torch>=1.13.0->peft==0.10.0) (10.3.2.106)\n",
      "Requirement already satisfied: nvidia-cusolver-cu12==11.4.5.107 in /home/uc23ff5572e2e4b3554d551d65d833aa/.local/lib/python3.10/site-packages (from torch>=1.13.0->peft==0.10.0) (11.4.5.107)\n",
      "Requirement already satisfied: nvidia-cusparse-cu12==12.1.0.106 in /home/uc23ff5572e2e4b3554d551d65d833aa/.local/lib/python3.10/site-packages (from torch>=1.13.0->peft==0.10.0) (12.1.0.106)\n",
      "Requirement already satisfied: nvidia-nccl-cu12==2.19.3 in /home/uc23ff5572e2e4b3554d551d65d833aa/.local/lib/python3.10/site-packages (from torch>=1.13.0->peft==0.10.0) (2.19.3)\n",
      "Requirement already satisfied: nvidia-nvtx-cu12==12.1.105 in /home/uc23ff5572e2e4b3554d551d65d833aa/.local/lib/python3.10/site-packages (from torch>=1.13.0->peft==0.10.0) (12.1.105)\n",
      "Requirement already satisfied: triton==2.2.0 in /home/uc23ff5572e2e4b3554d551d65d833aa/.local/lib/python3.10/site-packages (from torch>=1.13.0->peft==0.10.0) (2.2.0)\n",
      "Requirement already satisfied: nvidia-nvjitlink-cu12 in /home/uc23ff5572e2e4b3554d551d65d833aa/.local/lib/python3.10/site-packages (from nvidia-cusolver-cu12==11.4.5.107->torch>=1.13.0->peft==0.10.0) (12.4.127)\n",
      "Requirement already satisfied: regex!=2019.12.17 in /home/uc23ff5572e2e4b3554d551d65d833aa/.local/lib/python3.10/site-packages (from transformers->peft==0.10.0) (2024.11.6)\n",
      "Requirement already satisfied: tokenizers<0.19,>=0.14 in /home/uc23ff5572e2e4b3554d551d65d833aa/.local/lib/python3.10/site-packages (from transformers->peft==0.10.0) (0.15.2)\n",
      "Requirement already satisfied: charset-normalizer<4,>=2 in /home/uc23ff5572e2e4b3554d551d65d833aa/.local/lib/python3.10/site-packages (from requests->huggingface-hub>=0.17.0->peft==0.10.0) (3.4.0)\n",
      "Requirement already satisfied: idna<4,>=2.5 in /usr/lib/python3/dist-packages (from requests->huggingface-hub>=0.17.0->peft==0.10.0) (3.3)\n",
      "Requirement already satisfied: urllib3<3,>=1.21.1 in /home/uc23ff5572e2e4b3554d551d65d833aa/.local/lib/python3.10/site-packages (from requests->huggingface-hub>=0.17.0->peft==0.10.0) (2.2.3)\n",
      "Requirement already satisfied: certifi>=2017.4.17 in /usr/lib/python3/dist-packages (from requests->huggingface-hub>=0.17.0->peft==0.10.0) (2020.6.20)\n",
      "Requirement already satisfied: mpmath<1.4,>=1.1.0 in /home/uc23ff5572e2e4b3554d551d65d833aa/.local/lib/python3.10/site-packages (from sympy->torch>=1.13.0->peft==0.10.0) (1.3.0)\n",
      "Using cached peft-0.10.0-py3-none-any.whl (199 kB)\n",
      "\u001b[33mWARNING: Error parsing dependencies of mlnx-tools: Invalid version: '-5.8.0-'\u001b[0m\u001b[33m\n",
      "\u001b[0mInstalling collected packages: peft\n",
      "  Attempting uninstall: peft\n",
      "    Found existing installation: peft 0.6.2\n",
      "    Uninstalling peft-0.6.2:\n",
      "      Successfully uninstalled peft-0.6.2\n",
      "Successfully installed peft-0.10.0\n"
     ]
    }
   ],
   "source": [
    "import sys\n",
    "!{sys.executable} -m pip install peft==0.10.0"
   ]
  },
  {
   "cell_type": "markdown",
   "id": "d91f0f3e-8bf8-4c1c-adbb-3926b292e5ed",
   "metadata": {},
   "source": [
    "##### Install the Optimum-Habana Library"
   ]
  },
  {
   "cell_type": "code",
   "execution_count": 3,
   "id": "c8408759-937d-472a-bd00-e67142a90fbb",
   "metadata": {},
   "outputs": [
    {
     "name": "stdout",
     "output_type": "stream",
     "text": [
      "\u001b[33mWARNING: Error parsing dependencies of mlnx-tools: Invalid version: '-5.8.0-'\u001b[0m\u001b[33m\n",
      "\u001b[0m"
     ]
    }
   ],
   "source": [
    "!{sys.executable} -m pip install -q optimum-habana==1.11.1"
   ]
  },
  {
   "cell_type": "markdown",
   "id": "89b06c57-0d8c-4d40-85ae-1eea945a3ef9",
   "metadata": {},
   "source": [
    "##### Pull the Hugging Face Examples from GitHub\n",
    "These contain the working Hugging Face Task Examples that have been optimized for Gaudi.  For Fine Tuning, we'll use the language-modeling task. "
   ]
  },
  {
   "cell_type": "code",
   "execution_count": 4,
   "id": "50af3c79-6641-47d7-a440-09eba2bd5765",
   "metadata": {},
   "outputs": [
    {
     "name": "stdout",
     "output_type": "stream",
     "text": [
      "/home/uc23ff5572e2e4b3554d551d65d833aa/Gaudi-tutorials/PyTorch/Single_card_tutorials\n"
     ]
    }
   ],
   "source": [
    "%cd ~/Gaudi-tutorials/PyTorch/Single_card_tutorials"
   ]
  },
  {
   "cell_type": "code",
   "execution_count": 5,
   "id": "202263c2-e32d-4a96-b04c-42edb601daeb",
   "metadata": {},
   "outputs": [
    {
     "name": "stdout",
     "output_type": "stream",
     "text": [
      "fatal: destination path 'optimum-habana' already exists and is not an empty directory.\n"
     ]
    }
   ],
   "source": [
    "!git clone -b v1.11.1 https://github.com/huggingface/optimum-habana.git"
   ]
  },
  {
   "cell_type": "markdown",
   "id": "11e369a6-ce17-40a2-8a52-d735b7140e09",
   "metadata": {},
   "source": [
    "##### Go to the Language Modeling Task and install the model specific requirements"
   ]
  },
  {
   "cell_type": "code",
   "execution_count": 6,
   "id": "441de6d9-2b6f-4cf2-8bfd-664cec1c4998",
   "metadata": {},
   "outputs": [
    {
     "name": "stdout",
     "output_type": "stream",
     "text": [
      "/home/uc23ff5572e2e4b3554d551d65d833aa/Gaudi-tutorials/PyTorch/Single_card_tutorials/optimum-habana/examples/language-modeling\n"
     ]
    }
   ],
   "source": [
    "%cd ~/Gaudi-tutorials/PyTorch/Single_card_tutorials/optimum-habana/examples/language-modeling/ \n"
   ]
  },
  {
   "cell_type": "code",
   "execution_count": 7,
   "id": "94abd2f2-66b8-4f75-81c1-0bea6001d516",
   "metadata": {},
   "outputs": [
    {
     "name": "stdout",
     "output_type": "stream",
     "text": [
      "Defaulting to user installation because normal site-packages is not writeable\n",
      "Requirement already satisfied: pip in /home/uc23ff5572e2e4b3554d551d65d833aa/.local/lib/python3.10/site-packages (25.0.1)\n",
      "\u001b[33mWARNING: Error parsing dependencies of mlnx-tools: Invalid version: '-5.8.0-'\u001b[0m\u001b[33m\n",
      "\u001b[0m"
     ]
    }
   ],
   "source": [
    "! python3.10 -m pip install --upgrade pip"
   ]
  },
  {
   "cell_type": "code",
   "execution_count": 8,
   "id": "b2bffb2c-88e2-46d8-b234-eb9828a51ec2",
   "metadata": {},
   "outputs": [
    {
     "name": "stdout",
     "output_type": "stream",
     "text": [
      "\u001b[33mWARNING: Error parsing dependencies of mlnx-tools: Invalid version: '-5.8.0-'\u001b[0m\u001b[33m\n",
      "\u001b[0m"
     ]
    }
   ],
   "source": [
    "!pip install -q -r requirements.txt"
   ]
  },
  {
   "cell_type": "markdown",
   "id": "88ed7d45",
   "metadata": {},
   "source": [
    "##### How to access and Use the Llama 2 model\n",
    "\n",
    "Use of the pretrained model is subject to compliance with third party licenses, including the “Llama 2 Community License Agreement” (LLAMAV2). For guidance on the intended use of the LLAMA2 model, what will be considered misuse and out-of-scope uses, who are the intended users and additional terms please review and read the instructions in this link https://ai.meta.com/llama/license/.\n",
    "Users bear sole liability and responsibility to follow and comply with any third party licenses, and Habana Labs disclaims and will bear no liability with respect to users’ use or compliance with third party licenses.\n",
    "\n",
    "To be able to run gated models like the Meta Llama model, you need the following: \n",
    "- Have a HuggingFace account\n",
    "- Agree to the terms of use of the model in its model card on the HF Hub\n",
    "- set a read token\n",
    "- Login to your account using the HF CLI: run huggingface-cli login before launching your script"
   ]
  },
  {
   "cell_type": "code",
   "execution_count": null,
   "id": "2aa53882-c834-4ff3-8fc4-742579ee8cea",
   "metadata": {},
   "outputs": [
    {
     "name": "stdout",
     "output_type": "stream",
     "text": [
      "The token has not been saved to the git credentials helper. Pass `add_to_git_credential=True` in this function directly or `--add-to-git-credential` if using via `huggingface-cli` if you want to set the git credential as well.\n",
      "Token is valid (permission: write).\n",
      "The token `gaudi-token-sample` has been saved to /home/uc23ff5572e2e4b3554d551d65d833aa/.cache/huggingface/stored_tokens\n",
      "Your token has been saved to /home/uc23ff5572e2e4b3554d551d65d833aa/.cache/huggingface/token\n",
      "Login successful.\n",
      "The current active token is: `gaudi-token-sample`\n"
     ]
    }
   ],
   "source": [
    "!huggingface-cli login --token #your token"
   ]
  },
  {
   "cell_type": "markdown",
   "id": "e2d4c81e-c48d-45e0-93de-579e53995602",
   "metadata": {},
   "source": [
    "## Fine Tuning the model with PEFT and LoRA\n",
    "\n",
    "We'll now run the fine tuning with the PEFT method. Remember that the PEFT methods only fine-tune a small number of extra model parameters, thereby greatly decreasing the computational and storage costs. Recent State-of-the-Art PEFT techniques achieve performance comparable to that of full fine-tuning.\n",
    "\n",
    "##### Here's a summary of the command required to run the Fine Tuning, you'll run this in the next cell below. \n",
    "Note in this case the following: \n",
    "1. Using the language modeling with LoRA; `run_lora_clm.py`\n",
    "2. It's very efficient: only 0.06% of the total paramters are being fine tuned of the total 7B parameters.\n",
    "4. Only 3 epochs are needed for fine tuning, it takes less than 20 minutes to run with the openassisant-guanaco dataset.\n",
    "5. We are using a cached model on the Intel Tiber Cloud to reduce download time.\n"
   ]
  },
  {
   "cell_type": "code",
   "execution_count": 10,
   "id": "bb9ec679-aaa3-4b58-bc8f-8da1be7c7bc9",
   "metadata": {},
   "outputs": [
    {
     "name": "stdout",
     "output_type": "stream",
     "text": [
      "Defaulting to user installation because normal site-packages is not writeable\n",
      "Looking in indexes: https://pypi.org/simple, https://vault.habana.ai/artifactory/api/pypi/gaudi-python/simple\n",
      "\u001b[31mERROR: Could not find a version that satisfies the requirement habana-frameworks (from versions: none)\u001b[0m\u001b[31m\n",
      "\u001b[0m\u001b[31mERROR: No matching distribution found for habana-frameworks\u001b[0m\u001b[31m\n",
      "\u001b[0m"
     ]
    }
   ],
   "source": [
    "!pip install habana-frameworks --extra-index-url https://vault.habana.ai/artifactory/api/pypi/gaudi-python/simple\n"
   ]
  },
  {
   "cell_type": "code",
   "execution_count": 11,
   "id": "59efbfa4-4669-434f-ab94-cf12bfdfa39e",
   "metadata": {
    "scrolled": true
   },
   "outputs": [
    {
     "name": "stdout",
     "output_type": "stream",
     "text": [
      "Traceback (most recent call last):\n",
      "  File \"/home/uc23ff5572e2e4b3554d551d65d833aa/Gaudi-tutorials/PyTorch/Single_card_tutorials/optimum-habana/examples/language-modeling/run_lora_clm.py\", line 754, in <module>\n",
      "    main()\n",
      "  File \"/home/uc23ff5572e2e4b3554d551d65d833aa/Gaudi-tutorials/PyTorch/Single_card_tutorials/optimum-habana/examples/language-modeling/run_lora_clm.py\", line 365, in main\n",
      "    ) = parser.parse_args_into_dataclasses()\n",
      "  File \"/home/uc23ff5572e2e4b3554d551d65d833aa/.local/lib/python3.10/site-packages/transformers/hf_argparser.py\", line 338, in parse_args_into_dataclasses\n",
      "    obj = dtype(**inputs)\n",
      "  File \"<string>\", line 140, in __init__\n",
      "  File \"/home/uc23ff5572e2e4b3554d551d65d833aa/.local/lib/python3.10/site-packages/optimum/habana/transformers/training_args.py\", line 640, in __post_init__\n",
      "    device_is_hpu = self.device.type == \"hpu\"\n",
      "  File \"/home/uc23ff5572e2e4b3554d551d65d833aa/.local/lib/python3.10/site-packages/transformers/training_args.py\", line 1995, in device\n",
      "    return self._setup_devices\n",
      "  File \"/home/uc23ff5572e2e4b3554d551d65d833aa/.local/lib/python3.10/site-packages/transformers/utils/generic.py\", line 56, in __get__\n",
      "    cached = self.fget(obj)\n",
      "  File \"/home/uc23ff5572e2e4b3554d551d65d833aa/.local/lib/python3.10/site-packages/optimum/habana/transformers/training_args.py\", line 779, in _setup_devices\n",
      "    from .modeling_utils import adapt_transformers_to_gaudi\n",
      "  File \"/home/uc23ff5572e2e4b3554d551d65d833aa/.local/lib/python3.10/site-packages/optimum/habana/transformers/modeling_utils.py\", line 24, in <module>\n",
      "    from .models import (\n",
      "  File \"/home/uc23ff5572e2e4b3554d551d65d833aa/.local/lib/python3.10/site-packages/optimum/habana/transformers/models/__init__.py\", line 45, in <module>\n",
      "    from .falcon import (\n",
      "  File \"/home/uc23ff5572e2e4b3554d551d65d833aa/.local/lib/python3.10/site-packages/optimum/habana/transformers/models/falcon/__init__.py\", line 1, in <module>\n",
      "    from .modeling_falcon import (\n",
      "  File \"/home/uc23ff5572e2e4b3554d551d65d833aa/.local/lib/python3.10/site-packages/optimum/habana/transformers/models/falcon/modeling_falcon.py\", line 11, in <module>\n",
      "    from habana_frameworks.torch.hpex.kernels import FusedSDPA\n",
      "  File \"/usr/local/lib/python3.10/dist-packages/habana_frameworks/torch/__init__.py\", line 35, in <module>\n",
      "    ctypes.CDLL(\n",
      "  File \"/usr/lib/python3.10/ctypes/__init__.py\", line 374, in __init__\n",
      "    self._handle = _dlopen(self._name, mode)\n",
      "OSError: /usr/local/lib/python3.10/dist-packages/habana_frameworks/torch/lib/libhabana_pytorch_backend.so: undefined symbol: _ZN3c108ListType3getERKNSt7__cxx1112basic_stringIcSt11char_traitsIcESaIcEEENS_4Type24SingletonOrSharedTypePtrIS9_EE\n"
     ]
    }
   ],
   "source": [
    "!python3 run_lora_clm.py \\\n",
    "    --overwrite_output_dir=True \\\n",
    "    --model_name_or_path VAGOsolutions/Llama-3-SauerkrautLM-70b-Instruct \\\n",
    "    --dataset_name timdettmers/openassistant-guanaco \\\n",
    "    --bf16 True \\\n",
    "    --output_dir ~/Gaudi-tutorials/PyTorch/Single_card_tutorials/2025 \\\n",
    "    --num_train_epochs 3 \\\n",
    "    --per_device_train_batch_size 16 \\\n",
    "    --evaluation_strategy \"no\" \\\n",
    "    --save_strategy \"no\" \\\n",
    "    --learning_rate 1e-4 \\\n",
    "    --warmup_ratio  0.03 \\\n",
    "    --lr_scheduler_type \"constant\" \\\n",
    "    --max_grad_norm  0.3 \\\n",
    "    --logging_steps 1 \\\n",
    "    --do_train \\\n",
    "    --do_eval \\\n",
    "    --use_habana \\\n",
    "    --use_lazy_mode \\\n",
    "    --throughput_warmup_steps 3 \\\n",
    "    --lora_rank=8 \\\n",
    "    --lora_alpha=16 \\\n",
    "    --lora_dropout=0.05 \\\n",
    "    --lora_target_modules \"q_proj\" \"v_proj\" \\\n",
    "    --dataset_concatenation \\\n",
    "    --report_to none \\\n",
    "    --max_seq_length 512 \\\n",
    "    --trust_remote_code=True \\\n",
    "    --low_cpu_mem_usage True \\\n",
    "    --validation_split_percentage 4 \\\n",
    "    --adam_epsilon 1e-08"
   ]
  },
  {
   "cell_type": "code",
   "execution_count": 38,
   "id": "a881e522-f90a-4b85-b2dc-31a20760d30a",
   "metadata": {},
   "outputs": [
    {
     "name": "stdout",
     "output_type": "stream",
     "text": [
      "Defaulting to user installation because normal site-packages is not writeable\n",
      "Collecting flash_attn\n",
      "  Using cached flash_attn-2.7.4.post1.tar.gz (6.0 MB)\n",
      "  Preparing metadata (setup.py) ... \u001b[?25lerror\n",
      "  \u001b[1;31merror\u001b[0m: \u001b[1msubprocess-exited-with-error\u001b[0m\n",
      "  \n",
      "  \u001b[31m×\u001b[0m \u001b[32mpython setup.py egg_info\u001b[0m did not run successfully.\n",
      "  \u001b[31m│\u001b[0m exit code: \u001b[1;36m1\u001b[0m\n",
      "  \u001b[31m╰─>\u001b[0m \u001b[31m[19 lines of output]\u001b[0m\n",
      "  \u001b[31m   \u001b[0m /tmp/pip-install-sexhsps3/flash-attn_2e99c4b4162d46c38025ed80eb1f65e5/setup.py:106: UserWarning: flash_attn was requested, but nvcc was not found.  Are you sure your environment has nvcc available?  If you're installing within a container from https://hub.docker.com/r/pytorch/pytorch, only images whose names contain 'devel' will provide nvcc.\n",
      "  \u001b[31m   \u001b[0m   warnings.warn(\n",
      "  \u001b[31m   \u001b[0m Traceback (most recent call last):\n",
      "  \u001b[31m   \u001b[0m   File \"<string>\", line 2, in <module>\n",
      "  \u001b[31m   \u001b[0m   File \"<pip-setuptools-caller>\", line 34, in <module>\n",
      "  \u001b[31m   \u001b[0m   File \"/tmp/pip-install-sexhsps3/flash-attn_2e99c4b4162d46c38025ed80eb1f65e5/setup.py\", line 198, in <module>\n",
      "  \u001b[31m   \u001b[0m     CUDAExtension(\n",
      "  \u001b[31m   \u001b[0m   File \"/usr/local/lib/python3.10/dist-packages/torch/utils/cpp_extension.py\", line 1074, in CUDAExtension\n",
      "  \u001b[31m   \u001b[0m     library_dirs += library_paths(cuda=True)\n",
      "  \u001b[31m   \u001b[0m   File \"/usr/local/lib/python3.10/dist-packages/torch/utils/cpp_extension.py\", line 1201, in library_paths\n",
      "  \u001b[31m   \u001b[0m     if (not os.path.exists(_join_cuda_home(lib_dir)) and\n",
      "  \u001b[31m   \u001b[0m   File \"/usr/local/lib/python3.10/dist-packages/torch/utils/cpp_extension.py\", line 2407, in _join_cuda_home\n",
      "  \u001b[31m   \u001b[0m     raise OSError('CUDA_HOME environment variable is not set. '\n",
      "  \u001b[31m   \u001b[0m OSError: CUDA_HOME environment variable is not set. Please set it to your CUDA install root.\n",
      "  \u001b[31m   \u001b[0m \n",
      "  \u001b[31m   \u001b[0m \n",
      "  \u001b[31m   \u001b[0m torch.__version__  = 2.2.0a0+git8964477\n",
      "  \u001b[31m   \u001b[0m \n",
      "  \u001b[31m   \u001b[0m \n",
      "  \u001b[31m   \u001b[0m \u001b[31m[end of output]\u001b[0m\n",
      "  \n",
      "  \u001b[1;35mnote\u001b[0m: This error originates from a subprocess, and is likely not a problem with pip.\n",
      "\u001b[1;31merror\u001b[0m: \u001b[1mmetadata-generation-failed\u001b[0m\n",
      "\n",
      "\u001b[31m×\u001b[0m Encountered error while generating package metadata.\n",
      "\u001b[31m╰─>\u001b[0m See above for output.\n",
      "\n",
      "\u001b[1;35mnote\u001b[0m: This is an issue with the package mentioned above, not pip.\n",
      "\u001b[1;36mhint\u001b[0m: See above for details.\n",
      "\u001b[?25h"
     ]
    }
   ],
   "source": []
  },
  {
   "cell_type": "code",
   "execution_count": 39,
   "id": "6870e1d8-e119-4ffa-83bd-199d3d91ed6d",
   "metadata": {},
   "outputs": [
    {
     "name": "stdout",
     "output_type": "stream",
     "text": [
      "Defaulting to user installation because normal site-packages is not writeable\n",
      "Looking in links: https://github.com/Dao-AILab/flash-attention/releases\n",
      "Collecting flash-attn\n",
      "  Downloading https://github.com/Dao-AILab/flash-attention/releases/download/v2.7.4.post1/flash_attn-2.7.4.post1%2Bcu12torch2.3cxx11abiFALSE-cp310-cp310-linux_x86_64.whl (187.8 MB)\n",
      "\u001b[2K     \u001b[90m━━━━━━━━━━━━━━━━━━━━━━━━━━━━━━━━━━━━━━\u001b[0m \u001b[32m187.8/187.8 MB\u001b[0m \u001b[31m75.4 MB/s\u001b[0m eta \u001b[36m0:00:00\u001b[0m00:01\u001b[0m00:01\u001b[0m\n",
      "\u001b[?25hDiscarding \u001b[4;34mhttps://github.com/Dao-AILab/flash-attention/releases/download/v2.7.4.post1/flash_attn-2.7.4.post1%2Bcu12torch2.3cxx11abiFALSE-cp310-cp310-linux_x86_64.whl (from https://github.com/Dao-AILab/flash-attention/releases)\u001b[0m: \u001b[33mRequested flash-attn from https://github.com/Dao-AILab/flash-attention/releases/download/v2.7.4.post1/flash_attn-2.7.4.post1%2Bcu12torch2.3cxx11abiFALSE-cp310-cp310-linux_x86_64.whl has inconsistent version: expected '2.7.4.post1+cu12torch2.3cxx11abifalse', but metadata has '2.7.4.post1'\u001b[0m\n",
      "  Downloading https://github.com/Dao-AILab/flash-attention/releases/download/v2.7.4.post1/flash_attn-2.7.4.post1%2Bcu12torch2.2cxx11abiTRUE-cp310-cp310-linux_x86_64.whl (187.7 MB)\n",
      "\u001b[2K     \u001b[90m━━━━━━━━━━━━━━━━━━━━━━━━━━━━━━━━━━━━━━\u001b[0m \u001b[32m187.7/187.7 MB\u001b[0m \u001b[31m28.8 MB/s\u001b[0m eta \u001b[36m0:00:00\u001b[0m00:01\u001b[0m00:01\u001b[0m\n",
      "\u001b[?25hDiscarding \u001b[4;34mhttps://github.com/Dao-AILab/flash-attention/releases/download/v2.7.4.post1/flash_attn-2.7.4.post1%2Bcu12torch2.2cxx11abiTRUE-cp310-cp310-linux_x86_64.whl (from https://github.com/Dao-AILab/flash-attention/releases)\u001b[0m: \u001b[33mRequested flash-attn from https://github.com/Dao-AILab/flash-attention/releases/download/v2.7.4.post1/flash_attn-2.7.4.post1%2Bcu12torch2.2cxx11abiTRUE-cp310-cp310-linux_x86_64.whl has inconsistent version: expected '2.7.4.post1+cu12torch2.2cxx11abitrue', but metadata has '2.7.4.post1'\u001b[0m\n",
      "  Downloading https://github.com/Dao-AILab/flash-attention/releases/download/v2.7.4.post1/flash_attn-2.7.4.post1%2Bcu12torch2.2cxx11abiFALSE-cp310-cp310-linux_x86_64.whl (187.7 MB)\n",
      "\u001b[2K     \u001b[90m━━━━━━━━━━━━━━━━━━━━━━━━━━━━━━━━━━━━━━\u001b[0m \u001b[32m187.7/187.7 MB\u001b[0m \u001b[31m70.7 MB/s\u001b[0m eta \u001b[36m0:00:00\u001b[0m00:01\u001b[0m00:01\u001b[0m\n",
      "\u001b[?25hDiscarding \u001b[4;34mhttps://github.com/Dao-AILab/flash-attention/releases/download/v2.7.4.post1/flash_attn-2.7.4.post1%2Bcu12torch2.2cxx11abiFALSE-cp310-cp310-linux_x86_64.whl (from https://github.com/Dao-AILab/flash-attention/releases)\u001b[0m: \u001b[33mRequested flash-attn from https://github.com/Dao-AILab/flash-attention/releases/download/v2.7.4.post1/flash_attn-2.7.4.post1%2Bcu12torch2.2cxx11abiFALSE-cp310-cp310-linux_x86_64.whl has inconsistent version: expected '2.7.4.post1+cu12torch2.2cxx11abifalse', but metadata has '2.7.4.post1'\u001b[0m\n",
      "  Using cached flash_attn-2.7.4.post1.tar.gz (6.0 MB)\n",
      "  Preparing metadata (setup.py) ... \u001b[?25lerror\n",
      "  \u001b[1;31merror\u001b[0m: \u001b[1msubprocess-exited-with-error\u001b[0m\n",
      "  \n",
      "  \u001b[31m×\u001b[0m \u001b[32mpython setup.py egg_info\u001b[0m did not run successfully.\n",
      "  \u001b[31m│\u001b[0m exit code: \u001b[1;36m1\u001b[0m\n",
      "  \u001b[31m╰─>\u001b[0m \u001b[31m[19 lines of output]\u001b[0m\n",
      "  \u001b[31m   \u001b[0m /tmp/pip-install-qq7yfz_v/flash-attn_3bf1d307b2104d9aacb4bcebb78d8828/setup.py:106: UserWarning: flash_attn was requested, but nvcc was not found.  Are you sure your environment has nvcc available?  If you're installing within a container from https://hub.docker.com/r/pytorch/pytorch, only images whose names contain 'devel' will provide nvcc.\n",
      "  \u001b[31m   \u001b[0m   warnings.warn(\n",
      "  \u001b[31m   \u001b[0m Traceback (most recent call last):\n",
      "  \u001b[31m   \u001b[0m   File \"<string>\", line 2, in <module>\n",
      "  \u001b[31m   \u001b[0m   File \"<pip-setuptools-caller>\", line 34, in <module>\n",
      "  \u001b[31m   \u001b[0m   File \"/tmp/pip-install-qq7yfz_v/flash-attn_3bf1d307b2104d9aacb4bcebb78d8828/setup.py\", line 198, in <module>\n",
      "  \u001b[31m   \u001b[0m     CUDAExtension(\n",
      "  \u001b[31m   \u001b[0m   File \"/usr/local/lib/python3.10/dist-packages/torch/utils/cpp_extension.py\", line 1074, in CUDAExtension\n",
      "  \u001b[31m   \u001b[0m     library_dirs += library_paths(cuda=True)\n",
      "  \u001b[31m   \u001b[0m   File \"/usr/local/lib/python3.10/dist-packages/torch/utils/cpp_extension.py\", line 1201, in library_paths\n",
      "  \u001b[31m   \u001b[0m     if (not os.path.exists(_join_cuda_home(lib_dir)) and\n",
      "  \u001b[31m   \u001b[0m   File \"/usr/local/lib/python3.10/dist-packages/torch/utils/cpp_extension.py\", line 2407, in _join_cuda_home\n",
      "  \u001b[31m   \u001b[0m     raise OSError('CUDA_HOME environment variable is not set. '\n",
      "  \u001b[31m   \u001b[0m OSError: CUDA_HOME environment variable is not set. Please set it to your CUDA install root.\n",
      "  \u001b[31m   \u001b[0m \n",
      "  \u001b[31m   \u001b[0m \n",
      "  \u001b[31m   \u001b[0m torch.__version__  = 2.2.0a0+git8964477\n",
      "  \u001b[31m   \u001b[0m \n",
      "  \u001b[31m   \u001b[0m \n",
      "  \u001b[31m   \u001b[0m \u001b[31m[end of output]\u001b[0m\n",
      "  \n",
      "  \u001b[1;35mnote\u001b[0m: This error originates from a subprocess, and is likely not a problem with pip.\n",
      "\u001b[1;31merror\u001b[0m: \u001b[1mmetadata-generation-failed\u001b[0m\n",
      "\n",
      "\u001b[31m×\u001b[0m Encountered error while generating package metadata.\n",
      "\u001b[31m╰─>\u001b[0m See above for output.\n",
      "\n",
      "\u001b[1;35mnote\u001b[0m: This is an issue with the package mentioned above, not pip.\n",
      "\u001b[1;36mhint\u001b[0m: See above for details.\n",
      "\u001b[?25h"
     ]
    }
   ],
   "source": []
  },
  {
   "cell_type": "markdown",
   "id": "340f4aa5-5dc0-4662-bbca-a7a156be37f2",
   "metadata": {},
   "source": [
    "#### LoRA Fine Tuning Completed\n",
    "You will now see a \"model_lora_llama_single\" folder created which contains the PEFT model `adapter_model.bin` which will be used in the inference example below. "
   ]
  },
  {
   "cell_type": "markdown",
   "id": "c2a5b5cf-e4a4-4d67-888b-e3ddcdff1a5d",
   "metadata": {},
   "source": [
    "## Inference with Llama 2\n",
    "\n",
    "We'll now use the Hugging Face `text-generation` task to run inference on the Llama2-7b model; we'll generate text based on an included prompt.  Notice that we've included a path to the PEFT model that we've just created.\n",
    "\n",
    "First, we'll move to the text-generation examples folder and install the requirements. "
   ]
  },
  {
   "cell_type": "code",
   "execution_count": null,
   "id": "14841b58-2697-459d-ace5-763d721468f8",
   "metadata": {},
   "outputs": [],
   "source": [
    "%cd ~/Gaudi-tutorials/PyTorch/Single_card_tutorials/optimum-habana/examples/text-generation\n",
    "!pip install -q -r requirements.txt"
   ]
  },
  {
   "cell_type": "markdown",
   "id": "03479984-e872-48df-b106-cb9b1dd445d3",
   "metadata": {},
   "source": [
    "You will see that we are now running inference with the `run_generation.py` task and we are including the PEFT model that we Fine Tuned in the steps above. \n",
    "\n",
    "```\n",
    "--prompt \"I am a dog. Please help me plan a surprise birthday party for my human, including fun activities, games and decorations. And don't forget to order a big bone-shaped cake for me to share with my fur friends!\" \\\n",
    "--peft_model /root/Gaudi-tutorials/PyTorch/Single_card_tutorials/optimum-habana/examples/language-modeling/model_lora_llama_single\n",
    "```"
   ]
  },
  {
   "cell_type": "code",
   "execution_count": null,
   "id": "e32f89a0-4bdc-4ca4-9855-88060b7f140e",
   "metadata": {},
   "outputs": [],
   "source": [
    "# Use the prompt above to compare between the PEFT and non-PEFT examples\n",
    "prompt = input(\"Enter a prompt for text generation: \")"
   ]
  },
  {
   "cell_type": "code",
   "execution_count": null,
   "id": "d466f4a2-3607-4e8f-8b2d-1aefcc7d81aa",
   "metadata": {},
   "outputs": [],
   "source": [
    "cmd = f'python3 run_generation.py  --model_name_or_path VAGOsolutions/Llama-3-SauerkrautLM-70b-Instruct --batch_size 1 --do_sample --max_new_tokens 300 --n_iterations 4 \\\n",
    "      --use_hpu_graphs --use_kv_cache --bf16 --prompt \"{prompt}\" \\\n",
    "      --peft_model ~/Gaudi-tutorials/PyTorch/Single_card_tutorials/model_one '\n",
    "print(cmd)\n",
    "import os\n",
    "os.system(cmd)"
   ]
  },
  {
   "cell_type": "markdown",
   "id": "d269a38c-eeab-49d8-b12a-73599636e445",
   "metadata": {},
   "source": [
    "##### Comparison without PEFT and LoRA\n",
    "In this example, we're simply running the Llama2 7B model **without** including the PEFT fine tuned model, so the you are losing the additional detail that is brought to the model, and the results have signficantly less information and fidelity compared to the last model."
   ]
  },
  {
   "cell_type": "code",
   "execution_count": null,
   "id": "0a7a9804-cf3e-4bd3-adba-b8d39a9d55a9",
   "metadata": {
    "scrolled": true
   },
   "outputs": [],
   "source": [
    "cmd = f'python3 run_generation.py  --model_name_or_path VAGOsolutions/Llama-3-SauerkrautLM-70b-Instruct --batch_size 1 --do_sample --max_new_tokens 300 --n_iterations 4 \\\n",
    "      --use_hpu_graphs --use_kv_cache --bf16 --prompt \"{prompt}\"'\n",
    "print(cmd)\n",
    "import os\n",
    "os.system(cmd)"
   ]
  },
  {
   "cell_type": "code",
   "execution_count": null,
   "id": "a34e1747-57ea-44aa-a564-4af8d303d72a",
   "metadata": {},
   "outputs": [],
   "source": [
    "# Please be sure to run this exit command to ensure that the resorces running on Intel Gaudi are released \n",
    "exit()"
   ]
  }
 ],
 "metadata": {
  "kernelspec": {
   "display_name": "Python 3 (ipykernel)",
   "language": "python",
   "name": "python3"
  },
  "language_info": {
   "codemirror_mode": {
    "name": "ipython",
    "version": 3
   },
   "file_extension": ".py",
   "mimetype": "text/x-python",
   "name": "python",
   "nbconvert_exporter": "python",
   "pygments_lexer": "ipython3",
   "version": "3.10.12"
  }
 },
 "nbformat": 4,
 "nbformat_minor": 5
}
